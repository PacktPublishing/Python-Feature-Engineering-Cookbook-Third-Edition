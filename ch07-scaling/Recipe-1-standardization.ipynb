{
 "cells": [
  {
   "cell_type": "markdown",
   "metadata": {},
   "source": [
    "## Standardization\n",
    "\n",
    "\n",
    "Standardization centers the variable at zero and standardizing the variance to 1. \n",
    "\n",
    "The procedure involves subtracting the mean of each observation and then dividing by the standard deviation:\n",
    "\n",
    "**z = (x - x_mean) /  std**"
   ]
  },
  {
   "cell_type": "code",
   "execution_count": 1,
   "metadata": {},
   "outputs": [],
   "source": [
    "import matplotlib.pyplot as plt\n",
    "import pandas as pd\n",
    "from sklearn.datasets import fetch_california_housing\n",
    "from sklearn.model_selection import train_test_split\n",
    "\n",
    "# the scaler - for standardization\n",
    "from sklearn.preprocessing import StandardScaler"
   ]
  },
  {
   "cell_type": "code",
   "execution_count": 2,
   "metadata": {},
   "outputs": [
    {
     "data": {
      "text/html": [
       "<div>\n",
       "<style scoped>\n",
       "    .dataframe tbody tr th:only-of-type {\n",
       "        vertical-align: middle;\n",
       "    }\n",
       "\n",
       "    .dataframe tbody tr th {\n",
       "        vertical-align: top;\n",
       "    }\n",
       "\n",
       "    .dataframe thead th {\n",
       "        text-align: right;\n",
       "    }\n",
       "</style>\n",
       "<table border=\"1\" class=\"dataframe\">\n",
       "  <thead>\n",
       "    <tr style=\"text-align: right;\">\n",
       "      <th></th>\n",
       "      <th>MedInc</th>\n",
       "      <th>HouseAge</th>\n",
       "      <th>AveRooms</th>\n",
       "      <th>AveBedrms</th>\n",
       "      <th>Population</th>\n",
       "      <th>AveOccup</th>\n",
       "    </tr>\n",
       "  </thead>\n",
       "  <tbody>\n",
       "    <tr>\n",
       "      <th>0</th>\n",
       "      <td>8.3252</td>\n",
       "      <td>41.0</td>\n",
       "      <td>6.984127</td>\n",
       "      <td>1.023810</td>\n",
       "      <td>322.0</td>\n",
       "      <td>2.555556</td>\n",
       "    </tr>\n",
       "    <tr>\n",
       "      <th>1</th>\n",
       "      <td>8.3014</td>\n",
       "      <td>21.0</td>\n",
       "      <td>6.238137</td>\n",
       "      <td>0.971880</td>\n",
       "      <td>2401.0</td>\n",
       "      <td>2.109842</td>\n",
       "    </tr>\n",
       "    <tr>\n",
       "      <th>2</th>\n",
       "      <td>7.2574</td>\n",
       "      <td>52.0</td>\n",
       "      <td>8.288136</td>\n",
       "      <td>1.073446</td>\n",
       "      <td>496.0</td>\n",
       "      <td>2.802260</td>\n",
       "    </tr>\n",
       "    <tr>\n",
       "      <th>3</th>\n",
       "      <td>5.6431</td>\n",
       "      <td>52.0</td>\n",
       "      <td>5.817352</td>\n",
       "      <td>1.073059</td>\n",
       "      <td>558.0</td>\n",
       "      <td>2.547945</td>\n",
       "    </tr>\n",
       "    <tr>\n",
       "      <th>4</th>\n",
       "      <td>3.8462</td>\n",
       "      <td>52.0</td>\n",
       "      <td>6.281853</td>\n",
       "      <td>1.081081</td>\n",
       "      <td>565.0</td>\n",
       "      <td>2.181467</td>\n",
       "    </tr>\n",
       "  </tbody>\n",
       "</table>\n",
       "</div>"
      ],
      "text/plain": [
       "   MedInc  HouseAge  AveRooms  AveBedrms  Population  AveOccup\n",
       "0  8.3252      41.0  6.984127   1.023810       322.0  2.555556\n",
       "1  8.3014      21.0  6.238137   0.971880      2401.0  2.109842\n",
       "2  7.2574      52.0  8.288136   1.073446       496.0  2.802260\n",
       "3  5.6431      52.0  5.817352   1.073059       558.0  2.547945\n",
       "4  3.8462      52.0  6.281853   1.081081       565.0  2.181467"
      ]
     },
     "execution_count": 2,
     "metadata": {},
     "output_type": "execute_result"
    }
   ],
   "source": [
    "# load the California House price data from Scikit-learn\n",
    "X, y = fetch_california_housing(return_X_y=True, as_frame=True)\n",
    "\n",
    "# Remove 2 variables:\n",
    "X.drop(labels=[\"Latitude\", \"Longitude\"], axis=1, inplace=True)\n",
    "\n",
    "# display top 5 rows\n",
    "X.head()"
   ]
  },
  {
   "cell_type": "code",
   "execution_count": 3,
   "metadata": {},
   "outputs": [
    {
     "data": {
      "text/plain": [
       "((14448, 6), (6192, 6))"
      ]
     },
     "execution_count": 3,
     "metadata": {},
     "output_type": "execute_result"
    }
   ],
   "source": [
    "# let's separate the data into training and testing sets\n",
    "\n",
    "X_train, X_test, y_train, y_test = train_test_split(\n",
    "    X,\n",
    "    y,\n",
    "    test_size=0.3,\n",
    "    random_state=0,\n",
    ")\n",
    "\n",
    "X_train.shape, X_test.shape"
   ]
  },
  {
   "cell_type": "code",
   "execution_count": 4,
   "metadata": {},
   "outputs": [],
   "source": [
    "# standardisation: with the StandardScaler from sklearn\n",
    "\n",
    "# set up the scaler\n",
    "scaler = StandardScaler().set_output(transform=\"pandas\")\n",
    "\n",
    "# fit the scaler to the train set, it will learn the parameters\n",
    "scaler.fit(X_train)\n",
    "\n",
    "# transform train and test sets\n",
    "X_train_scaled = scaler.transform(X_train)\n",
    "X_test_scaled = scaler.transform(X_test)"
   ]
  },
  {
   "cell_type": "code",
   "execution_count": 5,
   "metadata": {},
   "outputs": [
    {
     "data": {
      "text/plain": [
       "array([3.86666741e+00, 2.86187016e+01, 5.42340368e+00, 1.09477484e+00,\n",
       "       1.42515732e+03, 3.04051776e+00])"
      ]
     },
     "execution_count": 5,
     "metadata": {},
     "output_type": "execute_result"
    }
   ],
   "source": [
    "# the scaler stores the mean of the features, learned from train set\n",
    "\n",
    "scaler.mean_"
   ]
  },
  {
   "cell_type": "code",
   "execution_count": 6,
   "metadata": {},
   "outputs": [
    {
     "data": {
      "text/plain": [
       "array([1.89109236e+00, 1.25962585e+01, 2.28754018e+00, 4.52736275e-01,\n",
       "       1.14954037e+03, 6.86792905e+00])"
      ]
     },
     "execution_count": 6,
     "metadata": {},
     "output_type": "execute_result"
    }
   ],
   "source": [
    "# the scaler stores the standard deviation of the features,\n",
    "# learned from train set\n",
    "\n",
    "scaler.scale_"
   ]
  },
  {
   "cell_type": "code",
   "execution_count": 7,
   "metadata": {},
   "outputs": [
    {
     "data": {
      "text/html": [
       "<div>\n",
       "<style scoped>\n",
       "    .dataframe tbody tr th:only-of-type {\n",
       "        vertical-align: middle;\n",
       "    }\n",
       "\n",
       "    .dataframe tbody tr th {\n",
       "        vertical-align: top;\n",
       "    }\n",
       "\n",
       "    .dataframe thead th {\n",
       "        text-align: right;\n",
       "    }\n",
       "</style>\n",
       "<table border=\"1\" class=\"dataframe\">\n",
       "  <thead>\n",
       "    <tr style=\"text-align: right;\">\n",
       "      <th></th>\n",
       "      <th>MedInc</th>\n",
       "      <th>HouseAge</th>\n",
       "      <th>AveRooms</th>\n",
       "      <th>AveBedrms</th>\n",
       "      <th>Population</th>\n",
       "      <th>AveOccup</th>\n",
       "    </tr>\n",
       "  </thead>\n",
       "  <tbody>\n",
       "    <tr>\n",
       "      <th>count</th>\n",
       "      <td>6192.000000</td>\n",
       "      <td>6192.000000</td>\n",
       "      <td>6192.000000</td>\n",
       "      <td>6192.000000</td>\n",
       "      <td>6192.000000</td>\n",
       "      <td>6192.000000</td>\n",
       "    </tr>\n",
       "    <tr>\n",
       "      <th>mean</th>\n",
       "      <td>3.880013</td>\n",
       "      <td>28.687984</td>\n",
       "      <td>5.442057</td>\n",
       "      <td>1.101109</td>\n",
       "      <td>1426.222061</td>\n",
       "      <td>3.140976</td>\n",
       "    </tr>\n",
       "    <tr>\n",
       "      <th>std</th>\n",
       "      <td>1.920007</td>\n",
       "      <td>12.560416</td>\n",
       "      <td>2.862733</td>\n",
       "      <td>0.519956</td>\n",
       "      <td>1091.567168</td>\n",
       "      <td>15.796292</td>\n",
       "    </tr>\n",
       "    <tr>\n",
       "      <th>min</th>\n",
       "      <td>0.499900</td>\n",
       "      <td>1.000000</td>\n",
       "      <td>1.465753</td>\n",
       "      <td>0.500000</td>\n",
       "      <td>8.000000</td>\n",
       "      <td>0.692308</td>\n",
       "    </tr>\n",
       "    <tr>\n",
       "      <th>25%</th>\n",
       "      <td>2.552150</td>\n",
       "      <td>18.000000</td>\n",
       "      <td>4.414452</td>\n",
       "      <td>1.006494</td>\n",
       "      <td>796.000000</td>\n",
       "      <td>2.436452</td>\n",
       "    </tr>\n",
       "    <tr>\n",
       "      <th>50%</th>\n",
       "      <td>3.529600</td>\n",
       "      <td>29.000000</td>\n",
       "      <td>5.227365</td>\n",
       "      <td>1.048741</td>\n",
       "      <td>1169.500000</td>\n",
       "      <td>2.825041</td>\n",
       "    </tr>\n",
       "    <tr>\n",
       "      <th>75%</th>\n",
       "      <td>4.768750</td>\n",
       "      <td>37.000000</td>\n",
       "      <td>6.064257</td>\n",
       "      <td>1.098434</td>\n",
       "      <td>1727.250000</td>\n",
       "      <td>3.285501</td>\n",
       "    </tr>\n",
       "    <tr>\n",
       "      <th>max</th>\n",
       "      <td>15.000100</td>\n",
       "      <td>52.000000</td>\n",
       "      <td>141.909091</td>\n",
       "      <td>25.636364</td>\n",
       "      <td>16305.000000</td>\n",
       "      <td>1243.333333</td>\n",
       "    </tr>\n",
       "  </tbody>\n",
       "</table>\n",
       "</div>"
      ],
      "text/plain": [
       "            MedInc     HouseAge     AveRooms    AveBedrms    Population  \\\n",
       "count  6192.000000  6192.000000  6192.000000  6192.000000   6192.000000   \n",
       "mean      3.880013    28.687984     5.442057     1.101109   1426.222061   \n",
       "std       1.920007    12.560416     2.862733     0.519956   1091.567168   \n",
       "min       0.499900     1.000000     1.465753     0.500000      8.000000   \n",
       "25%       2.552150    18.000000     4.414452     1.006494    796.000000   \n",
       "50%       3.529600    29.000000     5.227365     1.048741   1169.500000   \n",
       "75%       4.768750    37.000000     6.064257     1.098434   1727.250000   \n",
       "max      15.000100    52.000000   141.909091    25.636364  16305.000000   \n",
       "\n",
       "          AveOccup  \n",
       "count  6192.000000  \n",
       "mean      3.140976  \n",
       "std      15.796292  \n",
       "min       0.692308  \n",
       "25%       2.436452  \n",
       "50%       2.825041  \n",
       "75%       3.285501  \n",
       "max    1243.333333  "
      ]
     },
     "execution_count": 7,
     "metadata": {},
     "output_type": "execute_result"
    }
   ],
   "source": [
    "# Inspect the original statistical parameters\n",
    "\n",
    "X_test.describe()"
   ]
  },
  {
   "cell_type": "code",
   "execution_count": 8,
   "metadata": {},
   "outputs": [
    {
     "data": {
      "text/html": [
       "<div>\n",
       "<style scoped>\n",
       "    .dataframe tbody tr th:only-of-type {\n",
       "        vertical-align: middle;\n",
       "    }\n",
       "\n",
       "    .dataframe tbody tr th {\n",
       "        vertical-align: top;\n",
       "    }\n",
       "\n",
       "    .dataframe thead th {\n",
       "        text-align: right;\n",
       "    }\n",
       "</style>\n",
       "<table border=\"1\" class=\"dataframe\">\n",
       "  <thead>\n",
       "    <tr style=\"text-align: right;\">\n",
       "      <th></th>\n",
       "      <th>MedInc</th>\n",
       "      <th>HouseAge</th>\n",
       "      <th>AveRooms</th>\n",
       "      <th>AveBedrms</th>\n",
       "      <th>Population</th>\n",
       "      <th>AveOccup</th>\n",
       "    </tr>\n",
       "  </thead>\n",
       "  <tbody>\n",
       "    <tr>\n",
       "      <th>count</th>\n",
       "      <td>6192.000000</td>\n",
       "      <td>6192.000000</td>\n",
       "      <td>6192.000000</td>\n",
       "      <td>6192.000000</td>\n",
       "      <td>6192.000000</td>\n",
       "      <td>6192.000000</td>\n",
       "    </tr>\n",
       "    <tr>\n",
       "      <th>mean</th>\n",
       "      <td>0.007057</td>\n",
       "      <td>0.005500</td>\n",
       "      <td>0.008154</td>\n",
       "      <td>0.013991</td>\n",
       "      <td>0.000926</td>\n",
       "      <td>0.014627</td>\n",
       "    </tr>\n",
       "    <tr>\n",
       "      <th>std</th>\n",
       "      <td>1.015290</td>\n",
       "      <td>0.997154</td>\n",
       "      <td>1.251446</td>\n",
       "      <td>1.148474</td>\n",
       "      <td>0.949568</td>\n",
       "      <td>2.300008</td>\n",
       "    </tr>\n",
       "    <tr>\n",
       "      <th>min</th>\n",
       "      <td>-1.780329</td>\n",
       "      <td>-2.192612</td>\n",
       "      <td>-1.730090</td>\n",
       "      <td>-1.313734</td>\n",
       "      <td>-1.232803</td>\n",
       "      <td>-0.341909</td>\n",
       "    </tr>\n",
       "    <tr>\n",
       "      <th>25%</th>\n",
       "      <td>-0.695110</td>\n",
       "      <td>-0.843004</td>\n",
       "      <td>-0.441064</td>\n",
       "      <td>-0.194995</td>\n",
       "      <td>-0.547312</td>\n",
       "      <td>-0.087955</td>\n",
       "    </tr>\n",
       "    <tr>\n",
       "      <th>50%</th>\n",
       "      <td>-0.178240</td>\n",
       "      <td>0.030271</td>\n",
       "      <td>-0.085698</td>\n",
       "      <td>-0.101679</td>\n",
       "      <td>-0.222400</td>\n",
       "      <td>-0.031374</td>\n",
       "    </tr>\n",
       "    <tr>\n",
       "      <th>75%</th>\n",
       "      <td>0.477017</td>\n",
       "      <td>0.665380</td>\n",
       "      <td>0.280150</td>\n",
       "      <td>0.008082</td>\n",
       "      <td>0.262794</td>\n",
       "      <td>0.035671</td>\n",
       "    </tr>\n",
       "    <tr>\n",
       "      <th>max</th>\n",
       "      <td>5.887302</td>\n",
       "      <td>1.856210</td>\n",
       "      <td>59.664826</td>\n",
       "      <td>54.207251</td>\n",
       "      <td>12.944167</td>\n",
       "      <td>180.591967</td>\n",
       "    </tr>\n",
       "  </tbody>\n",
       "</table>\n",
       "</div>"
      ],
      "text/plain": [
       "            MedInc     HouseAge     AveRooms    AveBedrms   Population  \\\n",
       "count  6192.000000  6192.000000  6192.000000  6192.000000  6192.000000   \n",
       "mean      0.007057     0.005500     0.008154     0.013991     0.000926   \n",
       "std       1.015290     0.997154     1.251446     1.148474     0.949568   \n",
       "min      -1.780329    -2.192612    -1.730090    -1.313734    -1.232803   \n",
       "25%      -0.695110    -0.843004    -0.441064    -0.194995    -0.547312   \n",
       "50%      -0.178240     0.030271    -0.085698    -0.101679    -0.222400   \n",
       "75%       0.477017     0.665380     0.280150     0.008082     0.262794   \n",
       "max       5.887302     1.856210    59.664826    54.207251    12.944167   \n",
       "\n",
       "          AveOccup  \n",
       "count  6192.000000  \n",
       "mean      0.014627  \n",
       "std       2.300008  \n",
       "min      -0.341909  \n",
       "25%      -0.087955  \n",
       "50%      -0.031374  \n",
       "75%       0.035671  \n",
       "max     180.591967  "
      ]
     },
     "execution_count": 8,
     "metadata": {},
     "output_type": "execute_result"
    }
   ],
   "source": [
    "# inspect the statistics after scaling\n",
    "\n",
    "X_test_scaled.describe()"
   ]
  },
  {
   "cell_type": "code",
   "execution_count": 9,
   "metadata": {},
   "outputs": [
    {
     "data": {
      "text/html": [
       "<div>\n",
       "<style scoped>\n",
       "    .dataframe tbody tr th:only-of-type {\n",
       "        vertical-align: middle;\n",
       "    }\n",
       "\n",
       "    .dataframe tbody tr th {\n",
       "        vertical-align: top;\n",
       "    }\n",
       "\n",
       "    .dataframe thead th {\n",
       "        text-align: right;\n",
       "    }\n",
       "</style>\n",
       "<table border=\"1\" class=\"dataframe\">\n",
       "  <thead>\n",
       "    <tr style=\"text-align: right;\">\n",
       "      <th></th>\n",
       "      <th>MedInc</th>\n",
       "      <th>HouseAge</th>\n",
       "      <th>AveRooms</th>\n",
       "      <th>AveBedrms</th>\n",
       "      <th>Population</th>\n",
       "      <th>AveOccup</th>\n",
       "    </tr>\n",
       "  </thead>\n",
       "  <tbody>\n",
       "    <tr>\n",
       "      <th>count</th>\n",
       "      <td>1.444800e+04</td>\n",
       "      <td>1.444800e+04</td>\n",
       "      <td>1.444800e+04</td>\n",
       "      <td>1.444800e+04</td>\n",
       "      <td>1.444800e+04</td>\n",
       "      <td>1.444800e+04</td>\n",
       "    </tr>\n",
       "    <tr>\n",
       "      <th>mean</th>\n",
       "      <td>8.999815e-17</td>\n",
       "      <td>-1.077027e-16</td>\n",
       "      <td>-4.873670e-16</td>\n",
       "      <td>2.564701e-16</td>\n",
       "      <td>-6.393311e-17</td>\n",
       "      <td>5.606442e-17</td>\n",
       "    </tr>\n",
       "    <tr>\n",
       "      <th>std</th>\n",
       "      <td>1.000035e+00</td>\n",
       "      <td>1.000035e+00</td>\n",
       "      <td>1.000035e+00</td>\n",
       "      <td>1.000035e+00</td>\n",
       "      <td>1.000035e+00</td>\n",
       "      <td>1.000035e+00</td>\n",
       "    </tr>\n",
       "    <tr>\n",
       "      <th>min</th>\n",
       "      <td>-1.780329e+00</td>\n",
       "      <td>-2.192612e+00</td>\n",
       "      <td>-2.000948e+00</td>\n",
       "      <td>-1.681865e+00</td>\n",
       "      <td>-1.237153e+00</td>\n",
       "      <td>-3.335092e-01</td>\n",
       "    </tr>\n",
       "    <tr>\n",
       "      <th>25%</th>\n",
       "      <td>-6.853538e-01</td>\n",
       "      <td>-8.430044e-01</td>\n",
       "      <td>-4.245411e-01</td>\n",
       "      <td>-1.963688e-01</td>\n",
       "      <td>-5.577510e-01</td>\n",
       "      <td>-8.929172e-02</td>\n",
       "    </tr>\n",
       "    <tr>\n",
       "      <th>50%</th>\n",
       "      <td>-1.732160e-01</td>\n",
       "      <td>3.027077e-02</td>\n",
       "      <td>-8.484487e-02</td>\n",
       "      <td>-1.015919e-01</td>\n",
       "      <td>-2.263142e-01</td>\n",
       "      <td>-3.263905e-02</td>\n",
       "    </tr>\n",
       "    <tr>\n",
       "      <th>75%</th>\n",
       "      <td>4.597515e-01</td>\n",
       "      <td>6.653800e-01</td>\n",
       "      <td>2.728762e-01</td>\n",
       "      <td>1.154128e-02</td>\n",
       "      <td>2.599671e-01</td>\n",
       "      <td>3.493450e-02</td>\n",
       "    </tr>\n",
       "    <tr>\n",
       "      <th>max</th>\n",
       "      <td>5.887302e+00</td>\n",
       "      <td>1.856210e+00</td>\n",
       "      <td>5.556621e+01</td>\n",
       "      <td>7.282803e+01</td>\n",
       "      <td>2.980047e+01</td>\n",
       "      <td>8.687827e+01</td>\n",
       "    </tr>\n",
       "  </tbody>\n",
       "</table>\n",
       "</div>"
      ],
      "text/plain": [
       "             MedInc      HouseAge      AveRooms     AveBedrms    Population  \\\n",
       "count  1.444800e+04  1.444800e+04  1.444800e+04  1.444800e+04  1.444800e+04   \n",
       "mean   8.999815e-17 -1.077027e-16 -4.873670e-16  2.564701e-16 -6.393311e-17   \n",
       "std    1.000035e+00  1.000035e+00  1.000035e+00  1.000035e+00  1.000035e+00   \n",
       "min   -1.780329e+00 -2.192612e+00 -2.000948e+00 -1.681865e+00 -1.237153e+00   \n",
       "25%   -6.853538e-01 -8.430044e-01 -4.245411e-01 -1.963688e-01 -5.577510e-01   \n",
       "50%   -1.732160e-01  3.027077e-02 -8.484487e-02 -1.015919e-01 -2.263142e-01   \n",
       "75%    4.597515e-01  6.653800e-01  2.728762e-01  1.154128e-02  2.599671e-01   \n",
       "max    5.887302e+00  1.856210e+00  5.556621e+01  7.282803e+01  2.980047e+01   \n",
       "\n",
       "           AveOccup  \n",
       "count  1.444800e+04  \n",
       "mean   5.606442e-17  \n",
       "std    1.000035e+00  \n",
       "min   -3.335092e-01  \n",
       "25%   -8.929172e-02  \n",
       "50%   -3.263905e-02  \n",
       "75%    3.493450e-02  \n",
       "max    8.687827e+01  "
      ]
     },
     "execution_count": 9,
     "metadata": {},
     "output_type": "execute_result"
    }
   ],
   "source": [
    "X_train_scaled.describe()"
   ]
  },
  {
   "cell_type": "code",
   "execution_count": 10,
   "metadata": {},
   "outputs": [],
   "source": [
    "plt.rcParams.update({\"font.size\": 15})"
   ]
  },
  {
   "cell_type": "code",
   "execution_count": 11,
   "metadata": {},
   "outputs": [
    {
     "data": {
      "image/png": "[encoded data removed]",
      "text/plain": [
       "<Figure size 1440x864 with 6 Axes>"
      ]
     },
     "metadata": {
      "needs_background": "light"
     },
     "output_type": "display_data"
    }
   ],
   "source": [
    "X_test.hist(bins=20, figsize=(20, 12), layout=(2, 3))\n",
    "plt.show()"
   ]
  },
  {
   "cell_type": "code",
   "execution_count": 12,
   "metadata": {},
   "outputs": [
    {
     "data": {
      "image/png": "[encoded data removed]",
      "text/plain": [
       "<Figure size 1440x864 with 6 Axes>"
      ]
     },
     "metadata": {
      "needs_background": "light"
     },
     "output_type": "display_data"
    }
   ],
   "source": [
    "X_test_scaled.hist(bins=20, figsize=(20, 12), layout=(2, 3))\n",
    "plt.show()"
   ]
  },
  {
   "cell_type": "code",
   "execution_count": null,
   "metadata": {},
   "outputs": [],
   "source": []
  }
 ],
 "metadata": {
  "kernelspec": {
   "display_name": "fsml",
   "language": "python",
   "name": "fsml"
  },
  "language_info": {
   "codemirror_mode": {
    "name": "ipython",
    "version": 3
   },
   "file_extension": ".py",
   "mimetype": "text/x-python",
   "name": "python",
   "nbconvert_exporter": "python",
   "pygments_lexer": "ipython3",
   "version": "3.10.5"
  },
  "toc": {
   "base_numbering": 1,
   "nav_menu": {},
   "number_sections": true,
   "sideBar": true,
   "skip_h1_title": false,
   "title_cell": "Table of Contents",
   "title_sidebar": "Contents",
   "toc_cell": false,
   "toc_position": {},
   "toc_section_display": "block",
   "toc_window_display": true
  }
 },
 "nbformat": 4,
 "nbformat_minor": 2
}
