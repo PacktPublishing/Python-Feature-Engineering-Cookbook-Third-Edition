{
 "cells": [
  {
   "cell_type": "markdown",
   "metadata": {},
   "source": [
    "## Scaling to quantiles and median - RobustScaling\n",
    "\n",
    "In this procedure the median is removed from the observations and then they are scaled to the inter-quantile range (IQR). The IQR is the range between the 1st quartile (25th quantile) and the 3rd quartile (75th quantile).\n",
    "\n",
    "X_scaled = X - X_median / ( X.quantile(0.75) - X.quantile(0.25) )"
   ]
  },
  {
   "cell_type": "code",
   "execution_count": 1,
   "metadata": {},
   "outputs": [],
   "source": [
    "import matplotlib.pyplot as plt\n",
    "import pandas as pd\n",
    "from sklearn.datasets import fetch_california_housing\n",
    "from sklearn.model_selection import train_test_split\n",
    "\n",
    "# the scaler - for robust scaling\n",
    "from sklearn.preprocessing import RobustScaler"
   ]
  },
  {
   "cell_type": "code",
   "execution_count": 2,
   "metadata": {},
   "outputs": [
    {
     "data": {
      "text/html": [
       "<div>\n",
       "<style scoped>\n",
       "    .dataframe tbody tr th:only-of-type {\n",
       "        vertical-align: middle;\n",
       "    }\n",
       "\n",
       "    .dataframe tbody tr th {\n",
       "        vertical-align: top;\n",
       "    }\n",
       "\n",
       "    .dataframe thead th {\n",
       "        text-align: right;\n",
       "    }\n",
       "</style>\n",
       "<table border=\"1\" class=\"dataframe\">\n",
       "  <thead>\n",
       "    <tr style=\"text-align: right;\">\n",
       "      <th></th>\n",
       "      <th>MedInc</th>\n",
       "      <th>HouseAge</th>\n",
       "      <th>AveRooms</th>\n",
       "      <th>AveBedrms</th>\n",
       "      <th>Population</th>\n",
       "      <th>AveOccup</th>\n",
       "    </tr>\n",
       "  </thead>\n",
       "  <tbody>\n",
       "    <tr>\n",
       "      <th>0</th>\n",
       "      <td>8.3252</td>\n",
       "      <td>41.0</td>\n",
       "      <td>6.984127</td>\n",
       "      <td>1.023810</td>\n",
       "      <td>322.0</td>\n",
       "      <td>2.555556</td>\n",
       "    </tr>\n",
       "    <tr>\n",
       "      <th>1</th>\n",
       "      <td>8.3014</td>\n",
       "      <td>21.0</td>\n",
       "      <td>6.238137</td>\n",
       "      <td>0.971880</td>\n",
       "      <td>2401.0</td>\n",
       "      <td>2.109842</td>\n",
       "    </tr>\n",
       "    <tr>\n",
       "      <th>2</th>\n",
       "      <td>7.2574</td>\n",
       "      <td>52.0</td>\n",
       "      <td>8.288136</td>\n",
       "      <td>1.073446</td>\n",
       "      <td>496.0</td>\n",
       "      <td>2.802260</td>\n",
       "    </tr>\n",
       "    <tr>\n",
       "      <th>3</th>\n",
       "      <td>5.6431</td>\n",
       "      <td>52.0</td>\n",
       "      <td>5.817352</td>\n",
       "      <td>1.073059</td>\n",
       "      <td>558.0</td>\n",
       "      <td>2.547945</td>\n",
       "    </tr>\n",
       "    <tr>\n",
       "      <th>4</th>\n",
       "      <td>3.8462</td>\n",
       "      <td>52.0</td>\n",
       "      <td>6.281853</td>\n",
       "      <td>1.081081</td>\n",
       "      <td>565.0</td>\n",
       "      <td>2.181467</td>\n",
       "    </tr>\n",
       "  </tbody>\n",
       "</table>\n",
       "</div>"
      ],
      "text/plain": [
       "   MedInc  HouseAge  AveRooms  AveBedrms  Population  AveOccup\n",
       "0  8.3252      41.0  6.984127   1.023810       322.0  2.555556\n",
       "1  8.3014      21.0  6.238137   0.971880      2401.0  2.109842\n",
       "2  7.2574      52.0  8.288136   1.073446       496.0  2.802260\n",
       "3  5.6431      52.0  5.817352   1.073059       558.0  2.547945\n",
       "4  3.8462      52.0  6.281853   1.081081       565.0  2.181467"
      ]
     },
     "execution_count": 2,
     "metadata": {},
     "output_type": "execute_result"
    }
   ],
   "source": [
    "# load the California House price data from Scikit-learn\n",
    "X, y = fetch_california_housing(return_X_y=True, as_frame=True)\n",
    "\n",
    "# Remove 2 variables:\n",
    "X.drop(labels=[\"Latitude\", \"Longitude\"], axis=1, inplace=True)\n",
    "\n",
    "# display top 5 rows\n",
    "X.head()"
   ]
  },
  {
   "cell_type": "code",
   "execution_count": 3,
   "metadata": {},
   "outputs": [
    {
     "data": {
      "text/plain": [
       "((14448, 6), (6192, 6))"
      ]
     },
     "execution_count": 3,
     "metadata": {},
     "output_type": "execute_result"
    }
   ],
   "source": [
    "# let's separate the data into training and testing sets\n",
    "\n",
    "X_train, X_test, y_train, y_test = train_test_split(\n",
    "    X,\n",
    "    y,\n",
    "    test_size=0.3,\n",
    "    random_state=0,\n",
    ")\n",
    "\n",
    "X_train.shape, X_test.shape"
   ]
  },
  {
   "cell_type": "code",
   "execution_count": 4,
   "metadata": {},
   "outputs": [],
   "source": [
    "# set up the scaler\n",
    "scaler = RobustScaler().set_output(transform=\"pandas\")\n",
    "\n",
    "# fit the scaler to the train set, it will learn the parameters\n",
    "scaler.fit(X_train)\n",
    "\n",
    "# transform train and test sets\n",
    "X_train_scaled = scaler.transform(X_train)\n",
    "X_test_scaled = scaler.transform(X_test)"
   ]
  },
  {
   "cell_type": "code",
   "execution_count": 5,
   "metadata": {},
   "outputs": [
    {
     "data": {
      "text/plain": [
       "array([3.53910000e+00, 2.90000000e+01, 5.22931763e+00, 1.04878049e+00,\n",
       "       1.16500000e+03, 2.81635506e+00])"
      ]
     },
     "execution_count": 5,
     "metadata": {},
     "output_type": "execute_result"
    }
   ],
   "source": [
    "# the scaler stores the median values of the features as learned from train set\n",
    "\n",
    "scaler.center_"
   ]
  },
  {
   "cell_type": "code",
   "execution_count": 6,
   "metadata": {},
   "outputs": [
    {
     "data": {
      "text/plain": [
       "array([2.16550000e+00, 1.90000000e+01, 1.59537022e+00, 9.41284380e-02,\n",
       "       9.40000000e+02, 8.53176853e-01])"
      ]
     },
     "execution_count": 6,
     "metadata": {},
     "output_type": "execute_result"
    }
   ],
   "source": [
    "# the scaler stores the IQR values of the features as learned from train set\n",
    "\n",
    "scaler.scale_"
   ]
  },
  {
   "cell_type": "code",
   "execution_count": 7,
   "metadata": {},
   "outputs": [
    {
     "data": {
      "text/html": [
       "<div>\n",
       "<style scoped>\n",
       "    .dataframe tbody tr th:only-of-type {\n",
       "        vertical-align: middle;\n",
       "    }\n",
       "\n",
       "    .dataframe tbody tr th {\n",
       "        vertical-align: top;\n",
       "    }\n",
       "\n",
       "    .dataframe thead th {\n",
       "        text-align: right;\n",
       "    }\n",
       "</style>\n",
       "<table border=\"1\" class=\"dataframe\">\n",
       "  <thead>\n",
       "    <tr style=\"text-align: right;\">\n",
       "      <th></th>\n",
       "      <th>MedInc</th>\n",
       "      <th>HouseAge</th>\n",
       "      <th>AveRooms</th>\n",
       "      <th>AveBedrms</th>\n",
       "      <th>Population</th>\n",
       "      <th>AveOccup</th>\n",
       "    </tr>\n",
       "  </thead>\n",
       "  <tbody>\n",
       "    <tr>\n",
       "      <th>count</th>\n",
       "      <td>6192.000000</td>\n",
       "      <td>6192.000000</td>\n",
       "      <td>6192.000000</td>\n",
       "      <td>6192.000000</td>\n",
       "      <td>6192.000000</td>\n",
       "      <td>6192.000000</td>\n",
       "    </tr>\n",
       "    <tr>\n",
       "      <th>mean</th>\n",
       "      <td>3.880013</td>\n",
       "      <td>28.687984</td>\n",
       "      <td>5.442057</td>\n",
       "      <td>1.101109</td>\n",
       "      <td>1426.222061</td>\n",
       "      <td>3.140976</td>\n",
       "    </tr>\n",
       "    <tr>\n",
       "      <th>std</th>\n",
       "      <td>1.920007</td>\n",
       "      <td>12.560416</td>\n",
       "      <td>2.862733</td>\n",
       "      <td>0.519956</td>\n",
       "      <td>1091.567168</td>\n",
       "      <td>15.796292</td>\n",
       "    </tr>\n",
       "    <tr>\n",
       "      <th>min</th>\n",
       "      <td>0.499900</td>\n",
       "      <td>1.000000</td>\n",
       "      <td>1.465753</td>\n",
       "      <td>0.500000</td>\n",
       "      <td>8.000000</td>\n",
       "      <td>0.692308</td>\n",
       "    </tr>\n",
       "    <tr>\n",
       "      <th>25%</th>\n",
       "      <td>2.552150</td>\n",
       "      <td>18.000000</td>\n",
       "      <td>4.414452</td>\n",
       "      <td>1.006494</td>\n",
       "      <td>796.000000</td>\n",
       "      <td>2.436452</td>\n",
       "    </tr>\n",
       "    <tr>\n",
       "      <th>50%</th>\n",
       "      <td>3.529600</td>\n",
       "      <td>29.000000</td>\n",
       "      <td>5.227365</td>\n",
       "      <td>1.048741</td>\n",
       "      <td>1169.500000</td>\n",
       "      <td>2.825041</td>\n",
       "    </tr>\n",
       "    <tr>\n",
       "      <th>75%</th>\n",
       "      <td>4.768750</td>\n",
       "      <td>37.000000</td>\n",
       "      <td>6.064257</td>\n",
       "      <td>1.098434</td>\n",
       "      <td>1727.250000</td>\n",
       "      <td>3.285501</td>\n",
       "    </tr>\n",
       "    <tr>\n",
       "      <th>max</th>\n",
       "      <td>15.000100</td>\n",
       "      <td>52.000000</td>\n",
       "      <td>141.909091</td>\n",
       "      <td>25.636364</td>\n",
       "      <td>16305.000000</td>\n",
       "      <td>1243.333333</td>\n",
       "    </tr>\n",
       "  </tbody>\n",
       "</table>\n",
       "</div>"
      ],
      "text/plain": [
       "            MedInc     HouseAge     AveRooms    AveBedrms    Population  \\\n",
       "count  6192.000000  6192.000000  6192.000000  6192.000000   6192.000000   \n",
       "mean      3.880013    28.687984     5.442057     1.101109   1426.222061   \n",
       "std       1.920007    12.560416     2.862733     0.519956   1091.567168   \n",
       "min       0.499900     1.000000     1.465753     0.500000      8.000000   \n",
       "25%       2.552150    18.000000     4.414452     1.006494    796.000000   \n",
       "50%       3.529600    29.000000     5.227365     1.048741   1169.500000   \n",
       "75%       4.768750    37.000000     6.064257     1.098434   1727.250000   \n",
       "max      15.000100    52.000000   141.909091    25.636364  16305.000000   \n",
       "\n",
       "          AveOccup  \n",
       "count  6192.000000  \n",
       "mean      3.140976  \n",
       "std      15.796292  \n",
       "min       0.692308  \n",
       "25%       2.436452  \n",
       "50%       2.825041  \n",
       "75%       3.285501  \n",
       "max    1243.333333  "
      ]
     },
     "execution_count": 7,
     "metadata": {},
     "output_type": "execute_result"
    }
   ],
   "source": [
    "# Inspect the original value statistics\n",
    "X_test.describe()"
   ]
  },
  {
   "cell_type": "code",
   "execution_count": 8,
   "metadata": {},
   "outputs": [
    {
     "data": {
      "text/html": [
       "<div>\n",
       "<style scoped>\n",
       "    .dataframe tbody tr th:only-of-type {\n",
       "        vertical-align: middle;\n",
       "    }\n",
       "\n",
       "    .dataframe tbody tr th {\n",
       "        vertical-align: top;\n",
       "    }\n",
       "\n",
       "    .dataframe thead th {\n",
       "        text-align: right;\n",
       "    }\n",
       "</style>\n",
       "<table border=\"1\" class=\"dataframe\">\n",
       "  <thead>\n",
       "    <tr style=\"text-align: right;\">\n",
       "      <th></th>\n",
       "      <th>MedInc</th>\n",
       "      <th>HouseAge</th>\n",
       "      <th>AveRooms</th>\n",
       "      <th>AveBedrms</th>\n",
       "      <th>Population</th>\n",
       "      <th>AveOccup</th>\n",
       "    </tr>\n",
       "  </thead>\n",
       "  <tbody>\n",
       "    <tr>\n",
       "      <th>count</th>\n",
       "      <td>6192.000000</td>\n",
       "      <td>6192.000000</td>\n",
       "      <td>6192.000000</td>\n",
       "      <td>6192.000000</td>\n",
       "      <td>6192.000000</td>\n",
       "      <td>6192.000000</td>\n",
       "    </tr>\n",
       "    <tr>\n",
       "      <th>mean</th>\n",
       "      <td>0.157429</td>\n",
       "      <td>-0.016422</td>\n",
       "      <td>0.133348</td>\n",
       "      <td>0.555929</td>\n",
       "      <td>0.277896</td>\n",
       "      <td>0.380485</td>\n",
       "    </tr>\n",
       "    <tr>\n",
       "      <th>std</th>\n",
       "      <td>0.886634</td>\n",
       "      <td>0.661075</td>\n",
       "      <td>1.794400</td>\n",
       "      <td>5.523897</td>\n",
       "      <td>1.161242</td>\n",
       "      <td>18.514675</td>\n",
       "    </tr>\n",
       "    <tr>\n",
       "      <th>min</th>\n",
       "      <td>-1.403463</td>\n",
       "      <td>-1.473684</td>\n",
       "      <td>-2.359054</td>\n",
       "      <td>-5.830124</td>\n",
       "      <td>-1.230851</td>\n",
       "      <td>-2.489575</td>\n",
       "    </tr>\n",
       "    <tr>\n",
       "      <th>25%</th>\n",
       "      <td>-0.455761</td>\n",
       "      <td>-0.578947</td>\n",
       "      <td>-0.510769</td>\n",
       "      <td>-0.449248</td>\n",
       "      <td>-0.392553</td>\n",
       "      <td>-0.445280</td>\n",
       "    </tr>\n",
       "    <tr>\n",
       "      <th>50%</th>\n",
       "      <td>-0.004387</td>\n",
       "      <td>0.000000</td>\n",
       "      <td>-0.001224</td>\n",
       "      <td>-0.000421</td>\n",
       "      <td>0.004787</td>\n",
       "      <td>0.010181</td>\n",
       "    </tr>\n",
       "    <tr>\n",
       "      <th>75%</th>\n",
       "      <td>0.567837</td>\n",
       "      <td>0.421053</td>\n",
       "      <td>0.523352</td>\n",
       "      <td>0.527508</td>\n",
       "      <td>0.598138</td>\n",
       "      <td>0.549881</td>\n",
       "    </tr>\n",
       "    <tr>\n",
       "      <th>max</th>\n",
       "      <td>5.292542</td>\n",
       "      <td>1.210526</td>\n",
       "      <td>85.672762</td>\n",
       "      <td>261.213122</td>\n",
       "      <td>16.106383</td>\n",
       "      <td>1453.997462</td>\n",
       "    </tr>\n",
       "  </tbody>\n",
       "</table>\n",
       "</div>"
      ],
      "text/plain": [
       "            MedInc     HouseAge     AveRooms    AveBedrms   Population  \\\n",
       "count  6192.000000  6192.000000  6192.000000  6192.000000  6192.000000   \n",
       "mean      0.157429    -0.016422     0.133348     0.555929     0.277896   \n",
       "std       0.886634     0.661075     1.794400     5.523897     1.161242   \n",
       "min      -1.403463    -1.473684    -2.359054    -5.830124    -1.230851   \n",
       "25%      -0.455761    -0.578947    -0.510769    -0.449248    -0.392553   \n",
       "50%      -0.004387     0.000000    -0.001224    -0.000421     0.004787   \n",
       "75%       0.567837     0.421053     0.523352     0.527508     0.598138   \n",
       "max       5.292542     1.210526    85.672762   261.213122    16.106383   \n",
       "\n",
       "          AveOccup  \n",
       "count  6192.000000  \n",
       "mean      0.380485  \n",
       "std      18.514675  \n",
       "min      -2.489575  \n",
       "25%      -0.445280  \n",
       "50%       0.010181  \n",
       "75%       0.549881  \n",
       "max    1453.997462  "
      ]
     },
     "execution_count": 8,
     "metadata": {},
     "output_type": "execute_result"
    }
   ],
   "source": [
    "# inspect the values after scaling\n",
    "\n",
    "X_test_scaled.describe()"
   ]
  },
  {
   "cell_type": "code",
   "execution_count": 9,
   "metadata": {},
   "outputs": [
    {
     "data": {
      "image/png": "[encoded data removed]",
      "text/plain": [
       "<Figure size 1440x864 with 6 Axes>"
      ]
     },
     "metadata": {
      "needs_background": "light"
     },
     "output_type": "display_data"
    }
   ],
   "source": [
    "X_test.hist(bins=20, figsize=(20, 12), layout=(2, 3))\n",
    "plt.show()"
   ]
  },
  {
   "cell_type": "code",
   "execution_count": 10,
   "metadata": {},
   "outputs": [
    {
     "data": {
      "image/png": "[encoded data removed]",
      "text/plain": [
       "<Figure size 1440x864 with 6 Axes>"
      ]
     },
     "metadata": {
      "needs_background": "light"
     },
     "output_type": "display_data"
    }
   ],
   "source": [
    "X_test_scaled.hist(bins=20, figsize=(20, 12), layout=(2, 3))\n",
    "plt.show()"
   ]
  },
  {
   "cell_type": "code",
   "execution_count": null,
   "metadata": {},
   "outputs": [],
   "source": []
  }
 ],
 "metadata": {
  "kernelspec": {
   "display_name": "fsml",
   "language": "python",
   "name": "fsml"
  },
  "language_info": {
   "codemirror_mode": {
    "name": "ipython",
    "version": 3
   },
   "file_extension": ".py",
   "mimetype": "text/x-python",
   "name": "python",
   "nbconvert_exporter": "python",
   "pygments_lexer": "ipython3",
   "version": "3.10.5"
  },
  "toc": {
   "base_numbering": 1,
   "nav_menu": {},
   "number_sections": true,
   "sideBar": true,
   "skip_h1_title": false,
   "title_cell": "Table of Contents",
   "title_sidebar": "Contents",
   "toc_cell": false,
   "toc_position": {},
   "toc_section_display": "block",
   "toc_window_display": true
  }
 },
 "nbformat": 4,
 "nbformat_minor": 2
}
